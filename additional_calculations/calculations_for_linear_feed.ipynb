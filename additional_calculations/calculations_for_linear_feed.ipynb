{
 "cells": [
  {
   "cell_type": "markdown",
   "metadata": {},
   "source": [
    "# Calculations for optimized algorithm for linear feed and exponential/linear feed\n",
    "\n",
    "In this notebook, symbolic calculation are performed to solve the differential equations without a numerical solver. The production rate is dependent on the available glucose.\n",
    "\n",
    "## Linear feed"
   ]
  },
  {
   "cell_type": "code",
   "execution_count": 1,
   "metadata": {},
   "outputs": [],
   "source": [
    "import sympy as sp\n",
    "import numpy as np\n",
    "import pandas as pd\n",
    "import matplotlib.pyplot as plt"
   ]
  },
  {
   "cell_type": "code",
   "execution_count": 2,
   "metadata": {},
   "outputs": [],
   "source": [
    "qP, qX, qm, Gf, qf, qp_max, km, mu, Yxg, Ypg, qG, X, X0, t= sp.symbols('q_P q_X q_m G_f q_f q_p^{max} k_m mu Y_{X/G} Y_{P/G} q_G X X_0 t', positiv=True)\n",
    "X = sp.Function('X', positiv=True)(t)\n",
    "c1, c2, c3, c4, c5 = sp.symbols('c_1 c_2 c_3 c_4 c_5')"
   ]
  },
  {
   "cell_type": "markdown",
   "metadata": {},
   "source": [
    "### Step 1: Find a definition of $q_P$ only dependent on the growth rate and model parameter"
   ]
  },
  {
   "cell_type": "code",
   "execution_count": 3,
   "metadata": {},
   "outputs": [
    {
     "data": {
      "text/latex": [
       "$\\displaystyle q_{P} = \\frac{q_p^{max}}{\\frac{k_{m}}{q_{G} - q_{m}} + 1}$"
      ],
      "text/plain": [
       "Eq(q_P, q_p^{max}/(k_m/(q_G - q_m) + 1))"
      ]
     },
     "execution_count": 3,
     "metadata": {},
     "output_type": "execute_result"
    }
   ],
   "source": [
    "qP_def = sp.Eq(qP, qp_max / (km / (qG - qm) + 1))\n",
    "qP_def"
   ]
  },
  {
   "cell_type": "code",
   "execution_count": 4,
   "metadata": {},
   "outputs": [
    {
     "data": {
      "text/latex": [
       "$\\displaystyle q_{G} = q_{m} + \\frac{\\mu}{Y_{X/G}} + \\frac{q_{P}}{Y_{P/G}}$"
      ],
      "text/plain": [
       "Eq(q_G, q_m + mu/Y_{X/G} + q_P/Y_{P/G})"
      ]
     },
     "execution_count": 4,
     "metadata": {},
     "output_type": "execute_result"
    }
   ],
   "source": [
    "qG_def = sp.Eq(qG, mu / Yxg + qP / Ypg + qm)\n",
    "qG_def"
   ]
  },
  {
   "cell_type": "code",
   "execution_count": 5,
   "metadata": {},
   "outputs": [
    {
     "data": {
      "text/latex": [
       "$\\displaystyle q_{P} = \\frac{q_p^{max}}{\\frac{k_{m}}{\\frac{\\mu}{Y_{X/G}} + \\frac{q_{P}}{Y_{P/G}}} + 1}$"
      ],
      "text/plain": [
       "Eq(q_P, q_p^{max}/(k_m/(mu/Y_{X/G} + q_P/Y_{P/G}) + 1))"
      ]
     },
     "execution_count": 5,
     "metadata": {},
     "output_type": "execute_result"
    }
   ],
   "source": [
    "qP_eq = sp.Eq(qP, qp_max / (km / (mu / Yxg + qP / Ypg) + 1))\n",
    "qP_eq"
   ]
  },
  {
   "cell_type": "code",
   "execution_count": 6,
   "metadata": {},
   "outputs": [
    {
     "data": {
      "text/latex": [
       "$\\displaystyle q_{P} = \\frac{- Y_{P/G} Y_{X/G} k_{m} - Y_{P/G} \\mu + Y_{X/G} q_p^{max} + \\sqrt{Y_{P/G}^{2} Y_{X/G}^{2} k_{m}^{2} + 2 Y_{P/G}^{2} Y_{X/G} k_{m} \\mu + Y_{P/G}^{2} \\mu^{2} - 2 Y_{P/G} Y_{X/G}^{2} k_{m} q_p^{max} + 2 Y_{P/G} Y_{X/G} \\mu q_p^{max} + Y_{X/G}^{2} \\left(q_p^{max}\\right)^{2}}}{2 Y_{X/G}}$"
      ],
      "text/plain": [
       "Eq(q_P, (-Y_{P/G}*Y_{X/G}*k_m - Y_{P/G}*mu + Y_{X/G}*q_p^{max} + sqrt(Y_{P/G}**2*Y_{X/G}**2*k_m**2 + 2*Y_{P/G}**2*Y_{X/G}*k_m*mu + Y_{P/G}**2*mu**2 - 2*Y_{P/G}*Y_{X/G}**2*k_m*q_p^{max} + 2*Y_{P/G}*Y_{X/G}*mu*q_p^{max} + Y_{X/G}**2*q_p^{max}**2))/(2*Y_{X/G}))"
      ]
     },
     "execution_count": 6,
     "metadata": {},
     "output_type": "execute_result"
    }
   ],
   "source": [
    "qP_eq2 = sp.Eq(qP, sp.solve(qP_eq, qP)[1]).simplify()\n",
    "qP_eq2"
   ]
  },
  {
   "cell_type": "code",
   "execution_count": 7,
   "metadata": {},
   "outputs": [
    {
     "data": {
      "text/latex": [
       "$\\displaystyle \\frac{- Y_{P/G} Y_{X/G} k_{m} - Y_{P/G} \\mu + Y_{X/G} q_p^{max} + \\sqrt{Y_{P/G}^{2} Y_{X/G}^{2} k_{m}^{2} + Y_{P/G}^{2} \\mu^{2} - 2 Y_{P/G} Y_{X/G}^{2} k_{m} q_p^{max} + Y_{X/G}^{2} \\left(q_p^{max}\\right)^{2} + \\mu \\left(2 Y_{P/G}^{2} Y_{X/G} k_{m} + 2 Y_{P/G} Y_{X/G} q_p^{max}\\right)}}{2 Y_{X/G}}$"
      ],
      "text/plain": [
       "(-Y_{P/G}*Y_{X/G}*k_m - Y_{P/G}*mu + Y_{X/G}*q_p^{max} + sqrt(Y_{P/G}**2*Y_{X/G}**2*k_m**2 + Y_{P/G}**2*mu**2 - 2*Y_{P/G}*Y_{X/G}**2*k_m*q_p^{max} + Y_{X/G}**2*q_p^{max}**2 + mu*(2*Y_{P/G}**2*Y_{X/G}*k_m + 2*Y_{P/G}*Y_{X/G}*q_p^{max})))/(2*Y_{X/G})"
      ]
     },
     "execution_count": 7,
     "metadata": {},
     "output_type": "execute_result"
    }
   ],
   "source": [
    "qP_eq2.rhs.collect(mu)"
   ]
  },
  {
   "cell_type": "code",
   "execution_count": 8,
   "metadata": {},
   "outputs": [
    {
     "data": {
      "text/latex": [
       "$\\displaystyle q_{G} = - \\frac{k_{m}}{2} + q_{m} + \\frac{\\mu}{2 Y_{X/G}} + \\frac{q_p^{max}}{2 Y_{P/G}} + \\frac{\\sqrt{Y_{P/G}^{2} Y_{X/G}^{2} k_{m}^{2} + 2 Y_{P/G}^{2} Y_{X/G} k_{m} \\mu + Y_{P/G}^{2} \\mu^{2} - 2 Y_{P/G} Y_{X/G}^{2} k_{m} q_p^{max} + 2 Y_{P/G} Y_{X/G} \\mu q_p^{max} + Y_{X/G}^{2} \\left(q_p^{max}\\right)^{2}}}{2 Y_{P/G} Y_{X/G}}$"
      ],
      "text/plain": [
       "Eq(q_G, -k_m/2 + q_m + mu/(2*Y_{X/G}) + q_p^{max}/(2*Y_{P/G}) + sqrt(Y_{P/G}**2*Y_{X/G}**2*k_m**2 + 2*Y_{P/G}**2*Y_{X/G}*k_m*mu + Y_{P/G}**2*mu**2 - 2*Y_{P/G}*Y_{X/G}**2*k_m*q_p^{max} + 2*Y_{P/G}*Y_{X/G}*mu*q_p^{max} + Y_{X/G}**2*q_p^{max}**2)/(2*Y_{P/G}*Y_{X/G}))"
      ]
     },
     "execution_count": 8,
     "metadata": {},
     "output_type": "execute_result"
    }
   ],
   "source": [
    "qG_eq = qG_def.subs(qP, qP_eq2.rhs).simplify()\n",
    "qG_eq"
   ]
  },
  {
   "cell_type": "code",
   "execution_count": 9,
   "metadata": {},
   "outputs": [
    {
     "data": {
      "text/latex": [
       "$\\displaystyle q_{G} = \\frac{G_{f} q_{f}}{X{\\left(t \\right)}}$"
      ],
      "text/plain": [
       "Eq(q_G, G_f*q_f/X(t))"
      ]
     },
     "execution_count": 9,
     "metadata": {},
     "output_type": "execute_result"
    }
   ],
   "source": [
    "sp.Eq(qG, qf * Gf / X)"
   ]
  },
  {
   "cell_type": "code",
   "execution_count": 10,
   "metadata": {},
   "outputs": [
    {
     "data": {
      "text/latex": [
       "$\\displaystyle \\frac{G_{f} q_{f}}{X{\\left(t \\right)}} = \\frac{Y_{P/G} Y_{X/G} \\left(- k_{m} + 2 q_{m}\\right) + Y_{P/G} \\mu + Y_{X/G} q_p^{max} + \\sqrt{Y_{P/G}^{2} Y_{X/G}^{2} k_{m}^{2} + 2 Y_{P/G}^{2} Y_{X/G} k_{m} \\mu + Y_{P/G}^{2} \\mu^{2} - 2 Y_{P/G} Y_{X/G}^{2} k_{m} q_p^{max} + 2 Y_{P/G} Y_{X/G} \\mu q_p^{max} + Y_{X/G}^{2} \\left(q_p^{max}\\right)^{2}}}{2 Y_{P/G} Y_{X/G}}$"
      ],
      "text/plain": [
       "Eq(G_f*q_f/X(t), (Y_{P/G}*Y_{X/G}*(-k_m + 2*q_m) + Y_{P/G}*mu + Y_{X/G}*q_p^{max} + sqrt(Y_{P/G}**2*Y_{X/G}**2*k_m**2 + 2*Y_{P/G}**2*Y_{X/G}*k_m*mu + Y_{P/G}**2*mu**2 - 2*Y_{P/G}*Y_{X/G}**2*k_m*q_p^{max} + 2*Y_{P/G}*Y_{X/G}*mu*q_p^{max} + Y_{X/G}**2*q_p^{max}**2))/(2*Y_{P/G}*Y_{X/G}))"
      ]
     },
     "execution_count": 10,
     "metadata": {},
     "output_type": "execute_result"
    }
   ],
   "source": [
    "mu_def = qG_eq.subs(qG, qf * Gf / X).simplify()\n",
    "mu_def"
   ]
  },
  {
   "cell_type": "code",
   "execution_count": 11,
   "metadata": {},
   "outputs": [
    {
     "data": {
      "text/latex": [
       "$\\displaystyle \\frac{Y_{X/G} \\left(G_{f}^{2} Y_{P/G} q_{f}^{2} + \\left(- Y_{P/G} k_{m} q_{m} + Y_{P/G} q_{m}^{2} + q_{m} q_p^{max}\\right) X^{2}{\\left(t \\right)} + \\left(G_{f} Y_{P/G} k_{m} q_{f} - 2 G_{f} Y_{P/G} q_{f} q_{m} - G_{f} q_{f} q_p^{max}\\right) X{\\left(t \\right)}\\right)}{Y_{P/G} \\left(G_{f} q_{f} + \\left(k_{m} - q_{m}\\right) X{\\left(t \\right)}\\right) X{\\left(t \\right)}}$"
      ],
      "text/plain": [
       "Y_{X/G}*(G_f**2*Y_{P/G}*q_f**2 + (-Y_{P/G}*k_m*q_m + Y_{P/G}*q_m**2 + q_m*q_p^{max})*X(t)**2 + (G_f*Y_{P/G}*k_m*q_f - 2*G_f*Y_{P/G}*q_f*q_m - G_f*q_f*q_p^{max})*X(t))/(Y_{P/G}*(G_f*q_f + (k_m - q_m)*X(t))*X(t))"
      ]
     },
     "execution_count": 11,
     "metadata": {},
     "output_type": "execute_result"
    }
   ],
   "source": [
    "mu_eq = sp.Eq(mu, sp.solve(mu_def, mu)[0].simplify())\n",
    "mu_eq.rhs.collect(X)"
   ]
  },
  {
   "cell_type": "markdown",
   "metadata": {},
   "source": [
    "### Step 2: Solve equation for $X$\n",
    "\n",
    "With the formula for $mu$ the differential equation for the biomass $\\frac{dX}{dt} = \\mu X$ can be solved."
   ]
  },
  {
   "cell_type": "code",
   "execution_count": 12,
   "metadata": {},
   "outputs": [
    {
     "data": {
      "text/latex": [
       "$\\displaystyle \\frac{d}{d t} X{\\left(t \\right)} = \\frac{Y_{X/G} \\left(G_{f}^{2} Y_{P/G} q_{f}^{2} + G_{f} Y_{P/G} k_{m} q_{f} X{\\left(t \\right)} - 2 G_{f} Y_{P/G} q_{f} q_{m} X{\\left(t \\right)} - G_{f} q_{f} q_p^{max} X{\\left(t \\right)} - Y_{P/G} k_{m} q_{m} X^{2}{\\left(t \\right)} + Y_{P/G} q_{m}^{2} X^{2}{\\left(t \\right)} + q_{m} q_p^{max} X^{2}{\\left(t \\right)}\\right)}{Y_{P/G} \\left(G_{f} q_{f} + k_{m} X{\\left(t \\right)} - q_{m} X{\\left(t \\right)}\\right)}$"
      ],
      "text/plain": [
       "Eq(Derivative(X(t), t), Y_{X/G}*(G_f**2*Y_{P/G}*q_f**2 + G_f*Y_{P/G}*k_m*q_f*X(t) - 2*G_f*Y_{P/G}*q_f*q_m*X(t) - G_f*q_f*q_p^{max}*X(t) - Y_{P/G}*k_m*q_m*X(t)**2 + Y_{P/G}*q_m**2*X(t)**2 + q_m*q_p^{max}*X(t)**2)/(Y_{P/G}*(G_f*q_f + k_m*X(t) - q_m*X(t))))"
      ]
     },
     "execution_count": 12,
     "metadata": {},
     "output_type": "execute_result"
    }
   ],
   "source": [
    "ode_X = sp.Eq(sp.Derivative(X, t), mu_eq.rhs * X)\n",
    "ode_X"
   ]
  },
  {
   "cell_type": "code",
   "execution_count": 13,
   "metadata": {},
   "outputs": [
    {
     "data": {
      "text/latex": [
       "$\\displaystyle \\frac{c_{1} \\left(c_{2} X{\\left(t \\right)} + c_{3} + X^{2}{\\left(t \\right)}\\right)}{c_{4} + X{\\left(t \\right)}}$"
      ],
      "text/plain": [
       "c_1*(c_2*X(t) + c_3 + X(t)**2)/(c_4 + X(t))"
      ]
     },
     "execution_count": 13,
     "metadata": {},
     "output_type": "execute_result"
    }
   ],
   "source": [
    "def_dX = c1 * (X**2 + c2 * X + c3) / (c4 + X)\n",
    "def_dX"
   ]
  },
  {
   "cell_type": "code",
   "execution_count": 14,
   "metadata": {},
   "outputs": [
    {
     "data": {
      "text/latex": [
       "$\\displaystyle \\frac{c_{1} \\left(- c_{2} X{\\left(t \\right)} - c_{3} + \\left(c_{2} + 2 X{\\left(t \\right)}\\right) \\left(c_{4} + X{\\left(t \\right)}\\right) - X^{2}{\\left(t \\right)}\\right)}{\\left(c_{4} + X{\\left(t \\right)}\\right)^{2}}$"
      ],
      "text/plain": [
       "c_1*(-c_2*X(t) - c_3 + (c_2 + 2*X(t))*(c_4 + X(t)) - X(t)**2)/(c_4 + X(t))**2"
      ]
     },
     "execution_count": 14,
     "metadata": {},
     "output_type": "execute_result"
    }
   ],
   "source": [
    "sp.diff(def_dX, X).simplify()"
   ]
  },
  {
   "cell_type": "code",
   "execution_count": 15,
   "metadata": {},
   "outputs": [
    {
     "data": {
      "text/latex": [
       "$\\displaystyle \\frac{2 c_{1} \\left(- c_{2} c_{4} + c_{3} + c_{4}^{2}\\right)}{c_{4}^{3} + 3 c_{4}^{2} X{\\left(t \\right)} + 3 c_{4} X^{2}{\\left(t \\right)} + X^{3}{\\left(t \\right)}}$"
      ],
      "text/plain": [
       "2*c_1*(-c_2*c_4 + c_3 + c_4**2)/(c_4**3 + 3*c_4**2*X(t) + 3*c_4*X(t)**2 + X(t)**3)"
      ]
     },
     "execution_count": 15,
     "metadata": {},
     "output_type": "execute_result"
    }
   ],
   "source": [
    "sp.diff(sp.diff(def_dX, X),X).simplify()"
   ]
  },
  {
   "cell_type": "code",
   "execution_count": 16,
   "metadata": {},
   "outputs": [
    {
     "data": {
      "text/latex": [
       "$\\displaystyle \\frac{Y_{P/G} \\left(- k_{m} \\left(- Y_{P/G} k_{m} + Y_{P/G} q_{m} + q_p^{max}\\right) \\log{\\left(\\frac{- G_{f} q_{f} + q_{m} X{\\left(t \\right)}}{q_{m}} \\right)} + q_{m} q_p^{max} \\log{\\left(\\frac{G_{f} Y_{P/G} q_{f} + Y_{P/G} k_{m} X{\\left(t \\right)} - Y_{P/G} q_{m} X{\\left(t \\right)} - q_p^{max} X{\\left(t \\right)}}{Y_{P/G} k_{m} - Y_{P/G} q_{m} - q_p^{max}} \\right)}\\right)}{Y_{X/G} q_{m} \\left(Y_{P/G} k_{m} - q_p^{max}\\right) \\left(- Y_{P/G} k_{m} + Y_{P/G} q_{m} + q_p^{max}\\right)}$"
      ],
      "text/plain": [
       "Y_{P/G}*(-k_m*(-Y_{P/G}*k_m + Y_{P/G}*q_m + q_p^{max})*log((-G_f*q_f + q_m*X(t))/q_m) + q_m*q_p^{max}*log((G_f*Y_{P/G}*q_f + Y_{P/G}*k_m*X(t) - Y_{P/G}*q_m*X(t) - q_p^{max}*X(t))/(Y_{P/G}*k_m - Y_{P/G}*q_m - q_p^{max})))/(Y_{X/G}*q_m*(Y_{P/G}*k_m - q_p^{max})*(-Y_{P/G}*k_m + Y_{P/G}*q_m + q_p^{max}))"
      ]
     },
     "execution_count": 16,
     "metadata": {},
     "output_type": "execute_result"
    }
   ],
   "source": [
    "sp.integrate(1 / ode_X.rhs, X).simplify()"
   ]
  },
  {
   "cell_type": "code",
   "execution_count": 17,
   "metadata": {},
   "outputs": [
    {
     "data": {
      "text/latex": [
       "$\\displaystyle - \\frac{k_{m} \\log{\\left(\\frac{G_{f} q_{f} \\left(- \\frac{Y_{P/G}^{2} k_{m}^{3}}{q_{m} \\left(Y_{P/G} k_{m} - q_p^{max}\\right)} + \\frac{2 Y_{P/G} k_{m}^{2} q_p^{max}}{q_{m} \\left(Y_{P/G} k_{m} - q_p^{max}\\right)} + Y_{P/G} k_{m} - \\frac{k_{m} \\left(q_p^{max}\\right)^{2}}{q_{m} \\left(Y_{P/G} k_{m} - q_p^{max}\\right)} + q_p^{max}\\right)}{Y_{P/G} k_{m}^{2} - Y_{P/G} k_{m} q_{m} - k_{m} q_p^{max} - q_{m} q_p^{max}} + X{\\left(t \\right)} \\right)}}{q_{m} \\left(Y_{P/G} k_{m} - q_p^{max}\\right)} - \\frac{q_p^{max} \\log{\\left(\\frac{G_{f} q_{f} \\left(- \\frac{Y_{P/G}^{2} k_{m}^{2} q_p^{max}}{\\left(Y_{P/G} k_{m} - q_p^{max}\\right) \\left(Y_{P/G} k_{m} - Y_{P/G} q_{m} - q_p^{max}\\right)} + \\frac{2 Y_{P/G} k_{m} \\left(q_p^{max}\\right)^{2}}{\\left(Y_{P/G} k_{m} - q_p^{max}\\right) \\left(Y_{P/G} k_{m} - Y_{P/G} q_{m} - q_p^{max}\\right)} + Y_{P/G} k_{m} - \\frac{\\left(q_p^{max}\\right)^{3}}{\\left(Y_{P/G} k_{m} - q_p^{max}\\right) \\left(Y_{P/G} k_{m} - Y_{P/G} q_{m} - q_p^{max}\\right)} + q_p^{max}\\right)}{Y_{P/G} k_{m}^{2} - Y_{P/G} k_{m} q_{m} - k_{m} q_p^{max} - q_{m} q_p^{max}} + X{\\left(t \\right)} \\right)}}{\\left(Y_{P/G} k_{m} - q_p^{max}\\right) \\left(Y_{P/G} k_{m} - Y_{P/G} q_{m} - q_p^{max}\\right)} - \\frac{Y_{X/G} t}{Y_{P/G}} = C_{1}$"
      ],
      "text/plain": [
       "Eq(-k_m*log(G_f*q_f*(-Y_{P/G}**2*k_m**3/(q_m*(Y_{P/G}*k_m - q_p^{max})) + 2*Y_{P/G}*k_m**2*q_p^{max}/(q_m*(Y_{P/G}*k_m - q_p^{max})) + Y_{P/G}*k_m - k_m*q_p^{max}**2/(q_m*(Y_{P/G}*k_m - q_p^{max})) + q_p^{max})/(Y_{P/G}*k_m**2 - Y_{P/G}*k_m*q_m - k_m*q_p^{max} - q_m*q_p^{max}) + X(t))/(q_m*(Y_{P/G}*k_m - q_p^{max})) - q_p^{max}*log(G_f*q_f*(-Y_{P/G}**2*k_m**2*q_p^{max}/((Y_{P/G}*k_m - q_p^{max})*(Y_{P/G}*k_m - Y_{P/G}*q_m - q_p^{max})) + 2*Y_{P/G}*k_m*q_p^{max}**2/((Y_{P/G}*k_m - q_p^{max})*(Y_{P/G}*k_m - Y_{P/G}*q_m - q_p^{max})) + Y_{P/G}*k_m - q_p^{max}**3/((Y_{P/G}*k_m - q_p^{max})*(Y_{P/G}*k_m - Y_{P/G}*q_m - q_p^{max})) + q_p^{max})/(Y_{P/G}*k_m**2 - Y_{P/G}*k_m*q_m - k_m*q_p^{max} - q_m*q_p^{max}) + X(t))/((Y_{P/G}*k_m - q_p^{max})*(Y_{P/G}*k_m - Y_{P/G}*q_m - q_p^{max})) - Y_{X/G}*t/Y_{P/G}, C1)"
      ]
     },
     "execution_count": 17,
     "metadata": {},
     "output_type": "execute_result"
    }
   ],
   "source": [
    "ode_sol = sp.dsolve(ode_X)\n",
    "ode_sol"
   ]
  },
  {
   "cell_type": "markdown",
   "metadata": {},
   "source": [
    "While this equation is not solvable, we get an expression of X that can be solved by a root finding algorithm. As most of the variables are constant, the equation can be simplified. The definition of the constants is described in the thesis.\n",
    "\n",
    "The expression in the logarithms are created by integration $\\int \\frac{1}{x} = \\log(x)$. Therefore, we have to multiply the expression in the logarithms by $-1$, if they are negative."
   ]
  },
  {
   "cell_type": "code",
   "execution_count": 18,
   "metadata": {},
   "outputs": [
    {
     "data": {
      "text/latex": [
       "$\\displaystyle a \\log{\\left(b + X{\\left(t \\right)} \\right)} - c \\log{\\left(d + X{\\left(t \\right)} \\right)} - e t = f$"
      ],
      "text/plain": [
       "Eq(a*log(b + X(t)) - c*log(d + X(t)) - e*t, f)"
      ]
     },
     "execution_count": 18,
     "metadata": {},
     "output_type": "execute_result"
    }
   ],
   "source": [
    "a, b, c, d, e, f, g = sp.symbols('a b c d e f g')\n",
    "sol_simplified = sp.Eq (a * sp.log(b + X) - c * sp.log(d + X) - e * t, f)\n",
    "sol_simplified"
   ]
  },
  {
   "cell_type": "markdown",
   "metadata": {},
   "source": [
    "## Exponential linear feed\n",
    "\n",
    "In this case the growth rate is given, this makes the equation solvable.\n",
    "\n",
    "For the starvation phase we still use a theoretical growth rate, as the production rate is equal to the production rate in the growth phase with the same glucose uptake.\n",
    "\n",
    "Now we just have to use the equation for $q_P$ to solve the equation. The derivation of the solutions for X, P and V are shown in the thesis."
   ]
  },
  {
   "cell_type": "code",
   "execution_count": 19,
   "metadata": {},
   "outputs": [
    {
     "data": {
      "text/latex": [
       "$\\displaystyle q_{P} = \\frac{- Y_{P/G} Y_{X/G} k_{m} - Y_{P/G} \\mu + Y_{X/G} q_p^{max} + \\sqrt{Y_{P/G}^{2} Y_{X/G}^{2} k_{m}^{2} + 2 Y_{P/G}^{2} Y_{X/G} k_{m} \\mu + Y_{P/G}^{2} \\mu^{2} - 2 Y_{P/G} Y_{X/G}^{2} k_{m} q_p^{max} + 2 Y_{P/G} Y_{X/G} \\mu q_p^{max} + Y_{X/G}^{2} \\left(q_p^{max}\\right)^{2}}}{2 Y_{X/G}}$"
      ],
      "text/plain": [
       "Eq(q_P, (-Y_{P/G}*Y_{X/G}*k_m - Y_{P/G}*mu + Y_{X/G}*q_p^{max} + sqrt(Y_{P/G}**2*Y_{X/G}**2*k_m**2 + 2*Y_{P/G}**2*Y_{X/G}*k_m*mu + Y_{P/G}**2*mu**2 - 2*Y_{P/G}*Y_{X/G}**2*k_m*q_p^{max} + 2*Y_{P/G}*Y_{X/G}*mu*q_p^{max} + Y_{X/G}**2*q_p^{max}**2))/(2*Y_{X/G}))"
      ]
     },
     "execution_count": 19,
     "metadata": {},
     "output_type": "execute_result"
    }
   ],
   "source": [
    "qP_eq2"
   ]
  },
  {
   "cell_type": "code",
   "execution_count": 20,
   "metadata": {},
   "outputs": [
    {
     "data": {
      "text/latex": [
       "$\\displaystyle \\frac{- Y_{P/G} Y_{X/G} k_{m} - Y_{P/G} \\mu + Y_{X/G} q_p^{max} + \\sqrt{Y_{P/G}^{2} Y_{X/G}^{2} k_{m}^{2} + Y_{P/G}^{2} \\mu^{2} - 2 Y_{P/G} Y_{X/G}^{2} k_{m} q_p^{max} + Y_{X/G}^{2} \\left(q_p^{max}\\right)^{2} + \\mu \\left(2 Y_{P/G}^{2} Y_{X/G} k_{m} + 2 Y_{P/G} Y_{X/G} q_p^{max}\\right)}}{2 Y_{X/G}}$"
      ],
      "text/plain": [
       "(-Y_{P/G}*Y_{X/G}*k_m - Y_{P/G}*mu + Y_{X/G}*q_p^{max} + sqrt(Y_{P/G}**2*Y_{X/G}**2*k_m**2 + Y_{P/G}**2*mu**2 - 2*Y_{P/G}*Y_{X/G}**2*k_m*q_p^{max} + Y_{X/G}**2*q_p^{max}**2 + mu*(2*Y_{P/G}**2*Y_{X/G}*k_m + 2*Y_{P/G}*Y_{X/G}*q_p^{max})))/(2*Y_{X/G})"
      ]
     },
     "execution_count": 20,
     "metadata": {},
     "output_type": "execute_result"
    }
   ],
   "source": [
    "qP_eq2.rhs.collect(mu)"
   ]
  },
  {
   "cell_type": "code",
   "execution_count": 21,
   "metadata": {},
   "outputs": [
    {
     "data": {
      "text/latex": [
       "$\\displaystyle - Y_{X/G} k_{m} - \\mu + \\frac{Y_{X/G} q_p^{max}}{Y_{P/G}} + \\frac{\\sqrt{Y_{P/G}^{2} Y_{X/G}^{2} k_{m}^{2} + Y_{P/G}^{2} \\mu^{2} - 2 Y_{P/G} Y_{X/G}^{2} k_{m} q_p^{max} + Y_{X/G}^{2} \\left(q_p^{max}\\right)^{2} + \\mu \\left(2 Y_{P/G}^{2} Y_{X/G} k_{m} + 2 Y_{P/G} Y_{X/G} q_p^{max}\\right)}}{Y_{P/G}}$"
      ],
      "text/plain": [
       "-Y_{X/G}*k_m - mu + Y_{X/G}*q_p^{max}/Y_{P/G} + sqrt(Y_{P/G}**2*Y_{X/G}**2*k_m**2 + Y_{P/G}**2*mu**2 - 2*Y_{P/G}*Y_{X/G}**2*k_m*q_p^{max} + Y_{X/G}**2*q_p^{max}**2 + mu*(2*Y_{P/G}**2*Y_{X/G}*k_m + 2*Y_{P/G}*Y_{X/G}*q_p^{max}))/Y_{P/G}"
      ]
     },
     "execution_count": 21,
     "metadata": {},
     "output_type": "execute_result"
    }
   ],
   "source": [
    "(qP_eq2.rhs * 2* Yxg / Ypg).simplify().collect(mu)"
   ]
  },
  {
   "cell_type": "markdown",
   "metadata": {},
   "source": [
    "## Calculate $\\mu$ for $q_P^{\\mu}$\n",
    "Usually $\\mu$ is not calculated in the model. Getting the growth rate from available variables requires solving a quadratic equation."
   ]
  },
  {
   "cell_type": "code",
   "execution_count": 22,
   "metadata": {},
   "outputs": [
    {
     "data": {
      "text/latex": [
       "$\\displaystyle q_{P} = \\frac{\\mu q_P^{\\max}}{k_{M} + \\mu} + q_P^{\\min}$"
      ],
      "text/plain": [
       "Eq(q_P, mu*q_P^{\\max}/(k_M + mu) + q_P^{\\min})"
      ]
     },
     "execution_count": 22,
     "metadata": {},
     "output_type": "execute_result"
    }
   ],
   "source": [
    "qP_min, qP_max, kM = sp.symbols('q_P^{\\min} q_P^{\\max} k_M')\n",
    "qP_mu_def = sp.Eq(qP, qP_min + qP_max * mu / (kM + mu))\n",
    "qP_mu_def"
   ]
  },
  {
   "cell_type": "code",
   "execution_count": 23,
   "metadata": {},
   "outputs": [
    {
     "data": {
      "text/latex": [
       "$\\displaystyle q_{G} = q_{m} + \\frac{\\mu}{Y_{X/G}} + \\frac{\\frac{\\mu q_P^{\\max}}{k_{M} + \\mu} + q_P^{\\min}}{Y_{P/G}}$"
      ],
      "text/plain": [
       "Eq(q_G, q_m + mu/Y_{X/G} + (mu*q_P^{\\max}/(k_M + mu) + q_P^{\\min})/Y_{P/G})"
      ]
     },
     "execution_count": 23,
     "metadata": {},
     "output_type": "execute_result"
    }
   ],
   "source": [
    "qG_mu = qG_def.subs(qP, qP_mu_def.rhs)\n",
    "qG_mu"
   ]
  },
  {
   "cell_type": "code",
   "execution_count": 24,
   "metadata": {},
   "outputs": [
    {
     "data": {
      "text/latex": [
       "$\\displaystyle \\frac{Y_{P/G} \\left(Y_{X/G} \\left(q_{G} - q_{m}\\right) - k_{M}\\right) + Y_{X/G} \\left(- q_P^{\\max} - q_P^{\\min}\\right) + \\sqrt{Y_{P/G}^{2} \\left(Y_{X/G}^{2} \\left(q_{G}^{2} - 2 q_{G} q_{m} + q_{m}^{2}\\right) + Y_{X/G} \\left(2 k_{M} q_{G} - 2 k_{M} q_{m}\\right) + k_{M}^{2}\\right) + Y_{P/G} \\left(Y_{X/G}^{2} \\left(- 2 q_{G} q_P^{\\max} - 2 q_{G} q_P^{\\min} + 2 q_P^{\\max} q_{m} + 2 q_P^{\\min} q_{m}\\right) + Y_{X/G} \\left(2 k_{M} q_P^{\\max} - 2 k_{M} q_P^{\\min}\\right)\\right) + Y_{X/G}^{2} \\left(\\left(q_P^{\\max}\\right)^{2} + 2 q_P^{\\max} q_P^{\\min} + \\left(q_P^{\\min}\\right)^{2}\\right)}}{2 Y_{P/G}}$"
      ],
      "text/plain": [
       "(Y_{P/G}*(Y_{X/G}*(q_G - q_m) - k_M) + Y_{X/G}*(-q_P^{\\max} - q_P^{\\min}) + sqrt(Y_{P/G}**2*(Y_{X/G}**2*(q_G**2 - 2*q_G*q_m + q_m**2) + Y_{X/G}*(2*k_M*q_G - 2*k_M*q_m) + k_M**2) + Y_{P/G}*(Y_{X/G}**2*(-2*q_G*q_P^{\\max} - 2*q_G*q_P^{\\min} + 2*q_P^{\\max}*q_m + 2*q_P^{\\min}*q_m) + Y_{X/G}*(2*k_M*q_P^{\\max} - 2*k_M*q_P^{\\min})) + Y_{X/G}**2*(q_P^{\\max}**2 + 2*q_P^{\\max}*q_P^{\\min} + q_P^{\\min}**2)))/(2*Y_{P/G})"
      ]
     },
     "execution_count": 24,
     "metadata": {},
     "output_type": "execute_result"
    }
   ],
   "source": [
    "mu_def = sp.solve(qG_mu, mu)[1].simplify().collect(Ypg).collect(Yxg)\n",
    "mu_def"
   ]
  },
  {
   "cell_type": "code",
   "execution_count": null,
   "metadata": {},
   "outputs": [],
   "source": []
  },
  {
   "cell_type": "code",
   "execution_count": 27,
   "metadata": {},
   "outputs": [
    {
     "data": {
      "text/latex": [
       "$\\displaystyle - Y_{P/G} Y_{X/G} k_{M} q_{G} + Y_{P/G} Y_{X/G} k_{M} q_{m} + Y_{P/G} \\mu^{2} + Y_{X/G} k_{M} q_P^{\\min} + \\mu \\left(- Y_{P/G} Y_{X/G} q_{G} + Y_{P/G} Y_{X/G} q_{m} + Y_{P/G} k_{M} + Y_{X/G} q_P^{\\max} + Y_{X/G} q_P^{\\min}\\right)$"
      ],
      "text/plain": [
       "-Y_{P/G}*Y_{X/G}*k_M*q_G + Y_{P/G}*Y_{X/G}*k_M*q_m + Y_{P/G}*mu**2 + Y_{X/G}*k_M*q_P^{\\min} + mu*(-Y_{P/G}*Y_{X/G}*q_G + Y_{P/G}*Y_{X/G}*q_m + Y_{P/G}*k_M + Y_{X/G}*q_P^{\\max} + Y_{X/G}*q_P^{\\min})"
      ]
     },
     "execution_count": 27,
     "metadata": {},
     "output_type": "execute_result"
    }
   ],
   "source": [
    "((qG_mu.rhs - qG_mu.lhs) * (kM + mu) * Yxg * Ypg).simplify().expand().collect(mu)"
   ]
  }
 ],
 "metadata": {
  "kernelspec": {
   "display_name": "Python 3.10.4 ('pDNA_model')",
   "language": "python",
   "name": "python3"
  },
  "language_info": {
   "codemirror_mode": {
    "name": "ipython",
    "version": 3
   },
   "file_extension": ".py",
   "mimetype": "text/x-python",
   "name": "python",
   "nbconvert_exporter": "python",
   "pygments_lexer": "ipython3",
   "version": "3.10.4"
  },
  "vscode": {
   "interpreter": {
    "hash": "72cff0bde18ec0c5372788ff2b1299948e3c1d61bf981baae78390eec258e9e9"
   }
  }
 },
 "nbformat": 4,
 "nbformat_minor": 2
}
