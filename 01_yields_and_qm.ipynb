{
 "cells": [
  {
   "cell_type": "markdown",
   "metadata": {},
   "source": [
    "# Calculate maintenance requirement and glucose yields for product and biomass\n",
    "\n",
    "In this notebook we calculate the maintenance requirement $q_m$ and the yields $Y_{X/G}$ and $Y_{P/G}$, using a linear regression model."
   ]
  },
  {
   "cell_type": "code",
   "execution_count": 13,
   "metadata": {},
   "outputs": [],
   "source": [
    "import numpy as np\n",
    "import pandas as pd\n",
    "import matplotlib.pyplot as plt\n",
    "import seaborn\n",
    "import statsmodels.formula.api as smf\n",
    "import pickle\n",
    "import os\n",
    "import collections\n",
    "\n",
    "plt.rc('font', size=14)\n",
    "\n",
    "for dir in [\"data\"]:\n",
    "    if not os.path.exists(dir):\n",
    "        os.makedirs(dir)"
   ]
  },
  {
   "cell_type": "code",
   "execution_count": 14,
   "metadata": {},
   "outputs": [],
   "source": [
    "# collect parameters in dictionary for further use in models\n",
    "parameter = dict()"
   ]
  },
  {
   "cell_type": "code",
   "execution_count": 15,
   "metadata": {},
   "outputs": [],
   "source": [
    "t_max = 31  # latest time point used for analysis, the 35 h time point seems to have some unmodeled effects.\n",
    "\n",
    "# load data\n",
    "df = pd.read_csv('scripts/data/data.csv')\n",
    "df['P'] = df.P_ccc / df.ccc_percent /10\n",
    "df['X'] = df.X - df.P  # biomass data includs product\n",
    "df = df[df.t <= t_max]\n",
    "df_lin = df[df.feed == 'lin'].copy()"
   ]
  },
  {
   "cell_type": "code",
   "execution_count": 16,
   "metadata": {},
   "outputs": [],
   "source": [
    "# calculate qG, qP and mu\n",
    "experiments = list()\n",
    "X0 = 1.52\n",
    "\n",
    "for ex in df_lin.experiment.unique():\n",
    "    x = df_lin[df_lin.experiment == ex]\n",
    "    experiments.append(x)\n",
    "\n",
    "values = list()\n",
    "for x in experiments:\n",
    "    t_av = (x.t.values [1:] + x.t.values[:-1]) / 2\n",
    "    X_av = (x.X.values [1:] + x.X.values[:-1]) / 2\n",
    "    dP = (x.P.values [1:] - x.P.values[:-1]) \n",
    "    dX = (x.X.values [1:] - x.X.values[:-1])\n",
    "    dt = (x.t.values [1:] - x.t.values[:-1])\n",
    "    mu = np.log(x.X.values[1:] / x.X.values[:-1]) / dt\n",
    "    qP = dP / X_av / dt\n",
    "    qG = 330 * 1 / (35*2) / X_av\n",
    "    df_x = pd.DataFrame(np.array([t_av, X_av, mu, dP, dX, dt, qG, qP]).T, columns=['t_av', 'X_av', 'mu', 'dP', 'dX', 'dt', 'qG', 'qP']).set_index('t_av')\n",
    "    df_x['starvation'] = x.starvation.values[1:]\n",
    "    values.append(df_x)\n",
    "    \n",
    "df_all = pd.concat(values)\n",
    "df_all['n'] = np.log2(df_all.X_av / X0)\n",
    "\n",
    "df_growth = df_all[df_all.starvation == 'growth'].copy()"
   ]
  },
  {
   "cell_type": "code",
   "execution_count": 17,
   "metadata": {},
   "outputs": [],
   "source": [
    "# save dateframes for late use\n",
    "Dfs = collections.namedtuple('Dfs', 'all, growth, lin')\n",
    "\n",
    "dfs = Dfs(df_all, df_growth, df_lin)\n",
    "\n",
    "with open(\"data/flows.p\", \"wb\") as f:\n",
    "    pickle.dump(dfs, f)"
   ]
  },
  {
   "cell_type": "code",
   "execution_count": 18,
   "metadata": {},
   "outputs": [
    {
     "data": {
      "text/html": [
       "<table class=\"simpletable\">\n",
       "<caption>OLS Regression Results</caption>\n",
       "<tr>\n",
       "  <th>Dep. Variable:</th>           <td>qG</td>        <th>  R-squared:         </th> <td>   0.968</td>\n",
       "</tr>\n",
       "<tr>\n",
       "  <th>Model:</th>                   <td>OLS</td>       <th>  Adj. R-squared:    </th> <td>   0.966</td>\n",
       "</tr>\n",
       "<tr>\n",
       "  <th>Method:</th>             <td>Least Squares</td>  <th>  F-statistic:       </th> <td>   437.3</td>\n",
       "</tr>\n",
       "<tr>\n",
       "  <th>Date:</th>             <td>Wed, 12 Oct 2022</td> <th>  Prob (F-statistic):</th> <td>2.21e-22</td>\n",
       "</tr>\n",
       "<tr>\n",
       "  <th>Time:</th>                 <td>12:45:37</td>     <th>  Log-Likelihood:    </th> <td>  97.243</td>\n",
       "</tr>\n",
       "<tr>\n",
       "  <th>No. Observations:</th>      <td>    32</td>      <th>  AIC:               </th> <td>  -188.5</td>\n",
       "</tr>\n",
       "<tr>\n",
       "  <th>Df Residuals:</th>          <td>    29</td>      <th>  BIC:               </th> <td>  -184.1</td>\n",
       "</tr>\n",
       "<tr>\n",
       "  <th>Df Model:</th>              <td>     2</td>      <th>                     </th>     <td> </td>   \n",
       "</tr>\n",
       "<tr>\n",
       "  <th>Covariance Type:</th>      <td>nonrobust</td>    <th>                     </th>     <td> </td>   \n",
       "</tr>\n",
       "</table>\n",
       "<table class=\"simpletable\">\n",
       "<tr>\n",
       "      <td></td>         <th>coef</th>     <th>std err</th>      <th>t</th>      <th>P>|t|</th>  <th>[0.025</th>    <th>0.975]</th>  \n",
       "</tr>\n",
       "<tr>\n",
       "  <th>Intercept</th> <td>    0.0989</td> <td>    0.004</td> <td>   24.489</td> <td> 0.000</td> <td>    0.091</td> <td>    0.107</td>\n",
       "</tr>\n",
       "<tr>\n",
       "  <th>mu</th>        <td>    1.3848</td> <td>    0.104</td> <td>   13.315</td> <td> 0.000</td> <td>    1.172</td> <td>    1.598</td>\n",
       "</tr>\n",
       "<tr>\n",
       "  <th>qP</th>        <td>    7.5790</td> <td>    1.384</td> <td>    5.474</td> <td> 0.000</td> <td>    4.747</td> <td>   10.411</td>\n",
       "</tr>\n",
       "</table>\n",
       "<table class=\"simpletable\">\n",
       "<tr>\n",
       "  <th>Omnibus:</th>       <td> 2.740</td> <th>  Durbin-Watson:     </th> <td>   2.247</td>\n",
       "</tr>\n",
       "<tr>\n",
       "  <th>Prob(Omnibus):</th> <td> 0.254</td> <th>  Jarque-Bera (JB):  </th> <td>   1.509</td>\n",
       "</tr>\n",
       "<tr>\n",
       "  <th>Skew:</th>          <td>-0.459</td> <th>  Prob(JB):          </th> <td>   0.470</td>\n",
       "</tr>\n",
       "<tr>\n",
       "  <th>Kurtosis:</th>      <td> 3.536</td> <th>  Cond. No.          </th> <td>    645.</td>\n",
       "</tr>\n",
       "</table><br/><br/>Notes:<br/>[1] Standard Errors assume that the covariance matrix of the errors is correctly specified."
      ],
      "text/plain": [
       "<class 'statsmodels.iolib.summary.Summary'>\n",
       "\"\"\"\n",
       "                            OLS Regression Results                            \n",
       "==============================================================================\n",
       "Dep. Variable:                     qG   R-squared:                       0.968\n",
       "Model:                            OLS   Adj. R-squared:                  0.966\n",
       "Method:                 Least Squares   F-statistic:                     437.3\n",
       "Date:                Wed, 12 Oct 2022   Prob (F-statistic):           2.21e-22\n",
       "Time:                        12:45:37   Log-Likelihood:                 97.243\n",
       "No. Observations:                  32   AIC:                            -188.5\n",
       "Df Residuals:                      29   BIC:                            -184.1\n",
       "Df Model:                           2                                         \n",
       "Covariance Type:            nonrobust                                         \n",
       "==============================================================================\n",
       "                 coef    std err          t      P>|t|      [0.025      0.975]\n",
       "------------------------------------------------------------------------------\n",
       "Intercept      0.0989      0.004     24.489      0.000       0.091       0.107\n",
       "mu             1.3848      0.104     13.315      0.000       1.172       1.598\n",
       "qP             7.5790      1.384      5.474      0.000       4.747      10.411\n",
       "==============================================================================\n",
       "Omnibus:                        2.740   Durbin-Watson:                   2.247\n",
       "Prob(Omnibus):                  0.254   Jarque-Bera (JB):                1.509\n",
       "Skew:                          -0.459   Prob(JB):                        0.470\n",
       "Kurtosis:                       3.536   Cond. No.                         645.\n",
       "==============================================================================\n",
       "\n",
       "Notes:\n",
       "[1] Standard Errors assume that the covariance matrix of the errors is correctly specified.\n",
       "\"\"\""
      ]
     },
     "execution_count": 18,
     "metadata": {},
     "output_type": "execute_result"
    }
   ],
   "source": [
    "# create linear model\n",
    "results = smf.ols('qG ~ mu + qP', data=df_growth).fit()\n",
    "results.summary()"
   ]
  },
  {
   "cell_type": "code",
   "execution_count": 19,
   "metadata": {},
   "outputs": [
    {
     "data": {
      "text/html": [
       "<div>\n",
       "<style scoped>\n",
       "    .dataframe tbody tr th:only-of-type {\n",
       "        vertical-align: middle;\n",
       "    }\n",
       "\n",
       "    .dataframe tbody tr th {\n",
       "        vertical-align: top;\n",
       "    }\n",
       "\n",
       "    .dataframe thead th {\n",
       "        text-align: right;\n",
       "    }\n",
       "</style>\n",
       "<table border=\"1\" class=\"dataframe\">\n",
       "  <thead>\n",
       "    <tr style=\"text-align: right;\">\n",
       "      <th></th>\n",
       "      <th>0</th>\n",
       "      <th>1</th>\n",
       "    </tr>\n",
       "  </thead>\n",
       "  <tbody>\n",
       "    <tr>\n",
       "      <th>Intercept</th>\n",
       "      <td>0.090609</td>\n",
       "      <td>0.107123</td>\n",
       "    </tr>\n",
       "    <tr>\n",
       "      <th>mu</th>\n",
       "      <td>1.172120</td>\n",
       "      <td>1.597558</td>\n",
       "    </tr>\n",
       "    <tr>\n",
       "      <th>qP</th>\n",
       "      <td>4.747423</td>\n",
       "      <td>10.410507</td>\n",
       "    </tr>\n",
       "  </tbody>\n",
       "</table>\n",
       "</div>"
      ],
      "text/plain": [
       "                  0          1\n",
       "Intercept  0.090609   0.107123\n",
       "mu         1.172120   1.597558\n",
       "qP         4.747423  10.410507"
      ]
     },
     "execution_count": 19,
     "metadata": {},
     "output_type": "execute_result"
    }
   ],
   "source": [
    "conf_intervals = results.conf_int()\n",
    "conf_intervals"
   ]
  },
  {
   "cell_type": "code",
   "execution_count": 20,
   "metadata": {},
   "outputs": [
    {
     "name": "stdout",
     "output_type": "stream",
     "text": [
      "Y_XG = 0.7221056688105743 95 % confidence interval [0.6259555323860388, 0.8531548410128745]\n"
     ]
    }
   ],
   "source": [
    "parameter[\"Yxg\"] = 1 / results.params.mu\n",
    "print(\n",
    "    f\"Y_XG = {parameter['Yxg']} 95 % confidence interval [{1 / conf_intervals[1][1]}, {1 / conf_intervals[0][1]}]\"\n",
    ")\n"
   ]
  },
  {
   "cell_type": "code",
   "execution_count": 21,
   "metadata": {},
   "outputs": [
    {
     "name": "stdout",
     "output_type": "stream",
     "text": [
      "Y_PG = 0.13194413739432945 95 % confidence interval [0.09605680287178923, 0.21064058472661515]\n"
     ]
    }
   ],
   "source": [
    "parameter['Ypg'] = 1 / results.params.qP\n",
    "print(\n",
    "    f\"Y_PG = {parameter['Ypg']} 95 % confidence interval [{1 / conf_intervals[1][2]}, {1 / conf_intervals[0][2]}]\"\n",
    ")"
   ]
  },
  {
   "cell_type": "code",
   "execution_count": 22,
   "metadata": {},
   "outputs": [
    {
     "name": "stdout",
     "output_type": "stream",
     "text": [
      "qm = 0.09886616263035493 95 % confidence interval [0.09060921259014097, 0.10712311267056888]\n"
     ]
    }
   ],
   "source": [
    "parameter['qm'] = results.params.Intercept\n",
    "print(\n",
    "    f\"qm = {parameter['qm']} 95 % confidence interval [{conf_intervals[0][0]}, {conf_intervals[1][0]}]\"\n",
    ")"
   ]
  },
  {
   "cell_type": "code",
   "execution_count": 23,
   "metadata": {},
   "outputs": [],
   "source": [
    "with open('data/basic_parameters.p', 'wb') as file:\n",
    "    pickle.dump(parameter, file)"
   ]
  },
  {
   "cell_type": "markdown",
   "metadata": {},
   "source": [
    "The 3 dimensional model is not easy to plot. Therefore, we just plot the 2d model ignoring the influence of the product."
   ]
  },
  {
   "cell_type": "code",
   "execution_count": 24,
   "metadata": {},
   "outputs": [
    {
     "data": {
      "image/png": "[encoded data removed]",
      "text/plain": [
       "<Figure size 700x500 with 1 Axes>"
      ]
     },
     "metadata": {},
     "output_type": "display_data"
    }
   ],
   "source": [
    "fig,ax = plt.subplots(1, 1, figsize=(7, 5))\n",
    "ax.set_xlim(0, 0.1)\n",
    "ax.set_ylim(0, 0.3)\n",
    "seaborn.regplot(x=df_growth.mu, y=df_growth.qG, truncate=False)\n",
    "ax.set_xlabel(\"Growth rate\")\n",
    "ax.set_ylabel(\"Production rate $[g \\\\ (g \\\\ DW)^{-1}]$\")\n",
    "plt.savefig(\"plots/yield_model.png\", bbox_inches=\"tight\")\n",
    "plt.show()"
   ]
  }
 ],
 "metadata": {
  "kernelspec": {
   "display_name": "Python 3.10.4 ('pDNA_model')",
   "language": "python",
   "name": "python3"
  },
  "language_info": {
   "codemirror_mode": {
    "name": "ipython",
    "version": 3
   },
   "file_extension": ".py",
   "mimetype": "text/x-python",
   "name": "python",
   "nbconvert_exporter": "python",
   "pygments_lexer": "ipython3",
   "version": "3.10.4"
  },
  "orig_nbformat": 4,
  "vscode": {
   "interpreter": {
    "hash": "72cff0bde18ec0c5372788ff2b1299948e3c1d61bf981baae78390eec258e9e9"
   }
  }
 },
 "nbformat": 4,
 "nbformat_minor": 2
}
